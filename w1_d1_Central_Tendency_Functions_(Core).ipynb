{
  "nbformat": 4,
  "nbformat_minor": 0,
  "metadata": {
    "colab": {
      "provenance": [],
      "include_colab_link": true
    },
    "kernelspec": {
      "name": "python3",
      "display_name": "Python 3"
    },
    "language_info": {
      "name": "python"
    }
  },
  "cells": [
    {
      "cell_type": "markdown",
      "metadata": {
        "id": "view-in-github",
        "colab_type": "text"
      },
      "source": [
        "<a href=\"https://colab.research.google.com/github/Emiliewu/datascience-assignments/blob/main/w1_d1_Central_Tendency_Functions_(Core).ipynb\" target=\"_parent\"><img src=\"https://colab.research.google.com/assets/colab-badge.svg\" alt=\"Open In Colab\"/></a>"
      ]
    },
    {
      "cell_type": "code",
      "execution_count": null,
      "metadata": {
        "id": "VWgYS0D3cxNp"
      },
      "outputs": [],
      "source": [
        "# Lists of Fahrenheit temps\n",
        "week_1 = [45, 55, 49, 60, 52, 55, 58]\n",
        "week_2 = [51, 49, 62, 50, 53, 56, 59]\n",
        "week_3 = [60, 60, 61, 62, 57, 59, 58]\n",
        "week_4 = [59, 63, 62, 61, 65, 66, 62]"
      ]
    },
    {
      "cell_type": "code",
      "source": [
        "import numpy as np\n",
        "from statistics import mode\n",
        "\n",
        "np.mean(week_1)\n"
      ],
      "metadata": {
        "colab": {
          "base_uri": "https://localhost:8080/"
        },
        "id": "I3lUKnvhc97Z",
        "outputId": "3aa4489e-b113-46b3-b2ac-f940873c63e7"
      },
      "execution_count": null,
      "outputs": [
        {
          "output_type": "execute_result",
          "data": {
            "text/plain": [
              "53.42857142857143"
            ]
          },
          "metadata": {},
          "execution_count": 5
        }
      ]
    },
    {
      "cell_type": "code",
      "source": [
        "np.median(week_1)\n"
      ],
      "metadata": {
        "colab": {
          "base_uri": "https://localhost:8080/"
        },
        "id": "QqQi0l0qdjNa",
        "outputId": "13c6b368-38e2-41ea-edf9-7cc77cadf3f0"
      },
      "execution_count": null,
      "outputs": [
        {
          "output_type": "execute_result",
          "data": {
            "text/plain": [
              "55.0"
            ]
          },
          "metadata": {},
          "execution_count": 7
        }
      ]
    },
    {
      "cell_type": "code",
      "source": [
        "mode(week_1)"
      ],
      "metadata": {
        "colab": {
          "base_uri": "https://localhost:8080/"
        },
        "id": "51w8EBipd-5v",
        "outputId": "26a81ed4-01b9-42f4-cef9-ea9079fa17b9"
      },
      "execution_count": null,
      "outputs": [
        {
          "output_type": "execute_result",
          "data": {
            "text/plain": [
              "55"
            ]
          },
          "metadata": {},
          "execution_count": 9
        }
      ]
    },
    {
      "cell_type": "code",
      "source": [
        "def central_tendency(list_temps, verbose = True):\n",
        "  mean_temp = round(np.mean(list_temps), 2)\n",
        "  median_temp = np.median(list_temps)\n",
        "  mode_temp = mode(list_temps)\n",
        "  if verbose == True:\n",
        "    print(f'The mean is {mean_temp}')\n",
        "    print(f'The median is {median_temp}')\n",
        "    print(f'The mode is {mode_temp}')\n",
        "  else:\n",
        "    return mean_temp, median_temp, mode_temp"
      ],
      "metadata": {
        "id": "MQccZFJXeAZA"
      },
      "execution_count": null,
      "outputs": []
    },
    {
      "cell_type": "code",
      "source": [
        "central_tendency(week_1)"
      ],
      "metadata": {
        "colab": {
          "base_uri": "https://localhost:8080/"
        },
        "id": "GUPGAhhhfVhq",
        "outputId": "5a8ed91f-a118-42db-863d-10e4bb7d1d8e"
      },
      "execution_count": null,
      "outputs": [
        {
          "output_type": "stream",
          "name": "stdout",
          "text": [
            "The mean is 53.43\n",
            "The median is 55.0\n",
            "The mode is 55\n"
          ]
        }
      ]
    },
    {
      "cell_type": "code",
      "source": [
        "central_tendency(week_1, False)"
      ],
      "metadata": {
        "colab": {
          "base_uri": "https://localhost:8080/"
        },
        "id": "4Wk7TdbFoopc",
        "outputId": "f23b4621-5cbc-40a0-b67e-dec66f211c7b"
      },
      "execution_count": null,
      "outputs": [
        {
          "output_type": "execute_result",
          "data": {
            "text/plain": [
              "(53.43, 55.0, 55)"
            ]
          },
          "metadata": {},
          "execution_count": 20
        }
      ]
    },
    {
      "cell_type": "code",
      "source": [],
      "metadata": {
        "id": "-4PLRvaRqCf6"
      },
      "execution_count": null,
      "outputs": []
    }
  ]
}